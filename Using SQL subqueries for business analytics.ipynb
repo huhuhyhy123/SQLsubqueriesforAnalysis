{
 "cells": [
  {
   "cell_type": "code",
   "execution_count": null,
   "id": "966bfc48",
   "metadata": {},
   "outputs": [],
   "source": [
    "# 1. Retrieve all billing countries and their sale props.\n",
    "SELECT billing_countries,\n",
    "       ROUND(COUNT(*)*100 / (SELECT COUNT(*) FROM invoice),2) AS sales_prop )\n",
    "  FROM invoice\n",
    "  GROUP BY billing_countries\n",
    "  ORDER BY sales_prop DESC\n",
    "  LIMIT 5;"
   ]
  },
  {
   "cell_type": "code",
   "execution_count": null,
   "id": "0d0bcd03",
   "metadata": {},
   "outputs": [],
   "source": [
    "# 2. Retrieve data about countries and their sale share\n",
    "SELECT billing_countries,\n",
    "       SUM(total) / (SELECT SUM(total) FROM invoice) AS country_share\n",
    "   FROM invoice\n",
    "   GROUP BY billing_countries\n",
    "   ORDER BY country_share DESC\n",
    "   LIMIT 5;"
   ]
  },
  {
   "cell_type": "code",
   "execution_count": null,
   "id": "89cb7e71",
   "metadata": {},
   "outputs": [],
   "source": [
    "# 3. Count the number of rows where the total sale is larger then the average sale.\n",
    "SELECT COUNT(*) AS total_row\n",
    "  FROM invoice\n",
    "  WHERE total > (SELECT AVG(total) FROM invoice );"
   ]
  },
  {
   "cell_type": "code",
   "execution_count": null,
   "id": "153b8cdb",
   "metadata": {},
   "outputs": [],
   "source": [
    "# 4. Retrieve all data where total share is larger than 75% of the maximum single sale.\n",
    "SELECT * FROM invoice\n",
    "   WHERE total > (SELECT MAX(total)*0.75 FROM invoice);"
   ]
  },
  {
   "cell_type": "code",
   "execution_count": null,
   "id": "2b681e0d",
   "metadata": {},
   "outputs": [],
   "source": [
    "# 5. Identify customers with average sale larger then one of customer 5.\n",
    "SELECT customer_id, AVG(total) AS customer_avg\n",
    "   FROM invoice\n",
    "   GROUP BY customer_id\n",
    "   HAVING AVG(total) > (SELECT AVG(total) from invoice\n",
    "                            WHERE customer_id = 5);\n",
    "   "
   ]
  },
  {
   "cell_type": "code",
   "execution_count": null,
   "id": "572aaab8",
   "metadata": {},
   "outputs": [],
   "source": []
  },
  {
   "cell_type": "code",
   "execution_count": null,
   "id": "2d791eb9",
   "metadata": {},
   "outputs": [],
   "source": []
  },
  {
   "cell_type": "code",
   "execution_count": null,
   "id": "1c451f73",
   "metadata": {},
   "outputs": [],
   "source": []
  },
  {
   "cell_type": "code",
   "execution_count": null,
   "id": "cd9d29fd",
   "metadata": {},
   "outputs": [],
   "source": []
  }
 ],
 "metadata": {
  "kernelspec": {
   "display_name": "Python 3 (ipykernel)",
   "language": "python",
   "name": "python3"
  },
  "language_info": {
   "codemirror_mode": {
    "name": "ipython",
    "version": 3
   },
   "file_extension": ".py",
   "mimetype": "text/x-python",
   "name": "python",
   "nbconvert_exporter": "python",
   "pygments_lexer": "ipython3",
   "version": "3.10.9"
  }
 },
 "nbformat": 4,
 "nbformat_minor": 5
}
